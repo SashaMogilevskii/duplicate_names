{
 "cells": [
  {
   "cell_type": "markdown",
   "metadata": {},
   "source": [
    "### Load lib"
   ]
  },
  {
   "cell_type": "code",
   "execution_count": 2,
   "metadata": {
    "id": "zTSjJatkj15e"
   },
   "outputs": [
    {
     "name": "stderr",
     "output_type": "stream",
     "text": [
      "C:\\Users\\mogil\\AppData\\Roaming\\Python\\Python39\\site-packages\\fuzzywuzzy\\fuzz.py:11: UserWarning: Using slow pure-python SequenceMatcher. Install python-Levenshtein to remove this warning\n",
      "  warnings.warn('Using slow pure-python SequenceMatcher. Install python-Levenshtein to remove this warning')\n"
     ]
    }
   ],
   "source": [
    "import pandas as pd\n",
    "import numpy as np\n",
    "\n",
    "from sklearn.metrics import f1_score\n",
    "from fuzzywuzzy import fuzz"
   ]
  },
  {
   "cell_type": "markdown",
   "metadata": {},
   "source": [
    "### Check data"
   ]
  },
  {
   "cell_type": "code",
   "execution_count": 3,
   "metadata": {
    "id": "h0uJwxC0j7HV"
   },
   "outputs": [],
   "source": [
    "data = pd.read_csv('../data/data_v2_19_oct.csv')"
   ]
  },
  {
   "cell_type": "code",
   "execution_count": 4,
   "metadata": {},
   "outputs": [
    {
     "data": {
      "text/html": [
       "<div>\n",
       "<style scoped>\n",
       "    .dataframe tbody tr th:only-of-type {\n",
       "        vertical-align: middle;\n",
       "    }\n",
       "\n",
       "    .dataframe tbody tr th {\n",
       "        vertical-align: top;\n",
       "    }\n",
       "\n",
       "    .dataframe thead th {\n",
       "        text-align: right;\n",
       "    }\n",
       "</style>\n",
       "<table border=\"1\" class=\"dataframe\">\n",
       "  <thead>\n",
       "    <tr style=\"text-align: right;\">\n",
       "      <th></th>\n",
       "      <th>Unnamed: 0</th>\n",
       "      <th>pair_id</th>\n",
       "      <th>name_1</th>\n",
       "      <th>name_2</th>\n",
       "      <th>is_duplicate</th>\n",
       "      <th>name_1_upd</th>\n",
       "      <th>name_2_upd</th>\n",
       "    </tr>\n",
       "  </thead>\n",
       "  <tbody>\n",
       "    <tr>\n",
       "      <th>0</th>\n",
       "      <td>0</td>\n",
       "      <td>1</td>\n",
       "      <td>Iko Industries Ltd.</td>\n",
       "      <td>Enormous Industrial Trade Pvt., Ltd.</td>\n",
       "      <td>0</td>\n",
       "      <td>Iko</td>\n",
       "      <td>Enormous Trade</td>\n",
       "    </tr>\n",
       "    <tr>\n",
       "      <th>1</th>\n",
       "      <td>1</td>\n",
       "      <td>2</td>\n",
       "      <td>Apcotex Industries Ltd.</td>\n",
       "      <td>Technocraft Industries (India) Ltd.</td>\n",
       "      <td>0</td>\n",
       "      <td>Apcotex</td>\n",
       "      <td>Technocraft India</td>\n",
       "    </tr>\n",
       "    <tr>\n",
       "      <th>2</th>\n",
       "      <td>2</td>\n",
       "      <td>3</td>\n",
       "      <td>Rishichem Distributors Pvt., Ltd.</td>\n",
       "      <td>Dsa</td>\n",
       "      <td>0</td>\n",
       "      <td>Rishichem Distributors</td>\n",
       "      <td>Dsa</td>\n",
       "    </tr>\n",
       "    <tr>\n",
       "      <th>3</th>\n",
       "      <td>3</td>\n",
       "      <td>4</td>\n",
       "      <td>Powermax Rubber Factory</td>\n",
       "      <td>Co. One</td>\n",
       "      <td>0</td>\n",
       "      <td>Powermax Factory</td>\n",
       "      <td>One</td>\n",
       "    </tr>\n",
       "    <tr>\n",
       "      <th>4</th>\n",
       "      <td>4</td>\n",
       "      <td>5</td>\n",
       "      <td>Tress A/S</td>\n",
       "      <td>Longyou Industries Park Zhejiang</td>\n",
       "      <td>0</td>\n",
       "      <td>Tress</td>\n",
       "      <td>Longyou Park Zhejiang</td>\n",
       "    </tr>\n",
       "  </tbody>\n",
       "</table>\n",
       "</div>"
      ],
      "text/plain": [
       "   Unnamed: 0  pair_id                             name_1  \\\n",
       "0           0        1                Iko Industries Ltd.   \n",
       "1           1        2            Apcotex Industries Ltd.   \n",
       "2           2        3  Rishichem Distributors Pvt., Ltd.   \n",
       "3           3        4            Powermax Rubber Factory   \n",
       "4           4        5                          Tress A/S   \n",
       "\n",
       "                                 name_2  is_duplicate              name_1_upd  \\\n",
       "0  Enormous Industrial Trade Pvt., Ltd.             0                     Iko   \n",
       "1   Technocraft Industries (India) Ltd.             0                 Apcotex   \n",
       "2                                   Dsa             0  Rishichem Distributors   \n",
       "3                               Co. One             0        Powermax Factory   \n",
       "4      Longyou Industries Park Zhejiang             0                   Tress   \n",
       "\n",
       "              name_2_upd  \n",
       "0         Enormous Trade  \n",
       "1      Technocraft India  \n",
       "2                    Dsa  \n",
       "3                    One  \n",
       "4  Longyou Park Zhejiang  "
      ]
     },
     "execution_count": 4,
     "metadata": {},
     "output_type": "execute_result"
    }
   ],
   "source": [
    "data.head()"
   ]
  },
  {
   "cell_type": "markdown",
   "metadata": {},
   "source": [
    "### Create fuzzywuzzy model with transform_data"
   ]
  },
  {
   "cell_type": "code",
   "execution_count": 7,
   "metadata": {},
   "outputs": [],
   "source": [
    "data['fuzz'] = data.apply(lambda x: fuzz.partial_ratio(x.name_1_upd, x.name_2_upd), axis=1)"
   ]
  },
  {
   "cell_type": "code",
   "execution_count": 8,
   "metadata": {},
   "outputs": [
    {
     "name": "stdout",
     "output_type": "stream",
     "text": [
      "PARTIAL_RATIO\n",
      "50 - 0.03380944268277268\n",
      "51 - 0.03383361473016152\n",
      "52 - 0.033734061125720985\n",
      "53 - 0.033962116599543075\n",
      "54 - 0.034110532977077765\n",
      "55 - 0.034533410302867495\n",
      "56 - 0.035064980971120874\n",
      "57 - 0.03614207743684294\n",
      "58 - 0.03636972787849459\n",
      "59 - 0.036392006845522726\n",
      "60 - 0.03773784285365193\n",
      "61 - 0.03799296575150113\n",
      "62 - 0.03801318142907848\n",
      "63 - 0.03823186410195164\n",
      "64 - 0.03801423738066676\n",
      "65 - 0.038536588985094336\n",
      "66 - 0.03852067533740872\n",
      "67 - 0.06696396970340482\n",
      "68 - 0.06717925611546342\n",
      "69 - 0.07038160423051881\n",
      "70 - 0.07282264382301849\n",
      "71 - 0.0826485935344569\n",
      "72 - 0.08418261662109537\n",
      "73 - 0.09108203414996288\n",
      "74 - 0.09346603202077024\n",
      "75 - 0.1216\n",
      "76 - 0.12625464171476894\n",
      "77 - 0.12977346278317153\n",
      "78 - 0.13841135502071764\n",
      "79 - 0.15138282387190685\n",
      "80 - 0.18594390167034353\n",
      "81 - 0.19396433470507546\n",
      "82 - 0.21008722032612817\n",
      "83 - 0.22741134442798638\n",
      "84 - 0.23422613697645153\n",
      "85 - 0.24539524174980815\n",
      "86 - 0.2621459582385776\n",
      "87 - 0.26696687037632677\n",
      "88 - 0.2827033218785796\n",
      "89 - 0.28544198236835827\n",
      "90 - 0.28965685675906705\n",
      "91 - 0.29277377700521473\n",
      "92 - 0.29988346497475077\n",
      "93 - 0.3020204670690108\n",
      "94 - 0.2971428571428571\n",
      "95 - 0.2962962962962963\n",
      "96 - 0.29583110636023513\n",
      "97 - 0.2958405777718336\n",
      "98 - 0.29538461538461536\n",
      "99 - 0.29538461538461536\n",
      "100 - 0.0\n"
     ]
    }
   ],
   "source": [
    "print('PARTIAL_RATIO')\n",
    "for i in np.arange(50, 101, 1):\n",
    "  print(f'{i} - {f1_score(data.is_duplicate, (data.fuzz > i).astype(int))}')"
   ]
  },
  {
   "cell_type": "code",
   "execution_count": null,
   "metadata": {},
   "outputs": [],
   "source": []
  },
  {
   "cell_type": "markdown",
   "metadata": {},
   "source": [
    "### Check new_company in data"
   ]
  },
  {
   "cell_type": "code",
   "execution_count": 24,
   "metadata": {},
   "outputs": [],
   "source": [
    "data_base  = pd.read_csv(\"data_base.csv\")"
   ]
  },
  {
   "cell_type": "code",
   "execution_count": 33,
   "metadata": {},
   "outputs": [],
   "source": [
    "new_company = 'Boston stone'"
   ]
  },
  {
   "cell_type": "code",
   "execution_count": 34,
   "metadata": {},
   "outputs": [],
   "source": [
    "data_base['fuzz_new'] = data_base.apply(lambda x: fuzz.partial_ratio(x.name_1_upd, new_company), axis=1)"
   ]
  },
  {
   "cell_type": "code",
   "execution_count": 35,
   "metadata": {},
   "outputs": [],
   "source": [
    "k = 7"
   ]
  },
  {
   "cell_type": "code",
   "execution_count": 36,
   "metadata": {},
   "outputs": [],
   "source": [
    "df_company = data_base.sort_values('fuzz_new', ascending=False)[[\"name_1\", 'fuzz_new']][:k]"
   ]
  },
  {
   "cell_type": "code",
   "execution_count": 37,
   "metadata": {},
   "outputs": [],
   "source": [
    "list_company = []\n",
    "\n",
    "for i, row in df_company.iterrows():\n",
    "    list_company.append([row[\"name_1\"], row['fuzz_new'] / 100])"
   ]
  },
  {
   "cell_type": "code",
   "execution_count": 38,
   "metadata": {},
   "outputs": [
    {
     "data": {
      "text/plain": [
       "[['Bobst India Pvt., Ltd.', 0.8],\n",
       " ['Boast Inc.', 0.8],\n",
       " ['Beijing Boston Battery Technology Co., Ltd.', 0.75],\n",
       " ['Best Rubber Corporation', 0.75],\n",
       " ['Boes Inc.', 0.75],\n",
       " ['Bose Sa De Cv', 0.75],\n",
       " ['Bostik India Private Ltd.', 0.67]]"
      ]
     },
     "execution_count": 38,
     "metadata": {},
     "output_type": "execute_result"
    }
   ],
   "source": [
    "list_company"
   ]
  },
  {
   "cell_type": "code",
   "execution_count": null,
   "metadata": {},
   "outputs": [],
   "source": []
  }
 ],
 "metadata": {
  "colab": {
   "provenance": []
  },
  "kernelspec": {
   "display_name": "Python 3 (ipykernel)",
   "language": "python",
   "name": "python3"
  },
  "language_info": {
   "codemirror_mode": {
    "name": "ipython",
    "version": 3
   },
   "file_extension": ".py",
   "mimetype": "text/x-python",
   "name": "python",
   "nbconvert_exporter": "python",
   "pygments_lexer": "ipython3",
   "version": "3.10.7"
  }
 },
 "nbformat": 4,
 "nbformat_minor": 1
}
