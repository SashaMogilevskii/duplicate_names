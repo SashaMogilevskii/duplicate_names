{
 "cells": [
  {
   "cell_type": "code",
   "execution_count": 1,
   "id": "df68f262",
   "metadata": {},
   "outputs": [],
   "source": [
    "import pandas as pd\n",
    "from transliterate import translit\n",
    "from tqdm.notebook import tqdm\n",
    "from collections import Counter"
   ]
  },
  {
   "cell_type": "markdown",
   "id": "f5eadc8d",
   "metadata": {},
   "source": [
    "### 1. Show data"
   ]
  },
  {
   "cell_type": "code",
   "execution_count": 2,
   "id": "3bfbc982",
   "metadata": {},
   "outputs": [],
   "source": [
    "df = pd.read_csv('../data/data.csv')"
   ]
  },
  {
   "cell_type": "code",
   "execution_count": 3,
   "id": "81ea9dc4",
   "metadata": {},
   "outputs": [
    {
     "data": {
      "text/plain": [
       "(497819, 4)"
      ]
     },
     "execution_count": 3,
     "metadata": {},
     "output_type": "execute_result"
    }
   ],
   "source": [
    "df.shape"
   ]
  },
  {
   "cell_type": "code",
   "execution_count": 4,
   "id": "d10fc8b6",
   "metadata": {
    "scrolled": true
   },
   "outputs": [
    {
     "data": {
      "text/html": [
       "<div>\n",
       "<style scoped>\n",
       "    .dataframe tbody tr th:only-of-type {\n",
       "        vertical-align: middle;\n",
       "    }\n",
       "\n",
       "    .dataframe tbody tr th {\n",
       "        vertical-align: top;\n",
       "    }\n",
       "\n",
       "    .dataframe thead th {\n",
       "        text-align: right;\n",
       "    }\n",
       "</style>\n",
       "<table border=\"1\" class=\"dataframe\">\n",
       "  <thead>\n",
       "    <tr style=\"text-align: right;\">\n",
       "      <th></th>\n",
       "      <th>pair_id</th>\n",
       "      <th>name_1</th>\n",
       "      <th>name_2</th>\n",
       "      <th>is_duplicate</th>\n",
       "    </tr>\n",
       "  </thead>\n",
       "  <tbody>\n",
       "    <tr>\n",
       "      <th>0</th>\n",
       "      <td>1</td>\n",
       "      <td>Iko Industries Ltd.</td>\n",
       "      <td>Enormous Industrial Trade Pvt., Ltd.</td>\n",
       "      <td>0</td>\n",
       "    </tr>\n",
       "    <tr>\n",
       "      <th>1</th>\n",
       "      <td>2</td>\n",
       "      <td>Apcotex Industries Ltd.</td>\n",
       "      <td>Technocraft Industries (India) Ltd.</td>\n",
       "      <td>0</td>\n",
       "    </tr>\n",
       "    <tr>\n",
       "      <th>2</th>\n",
       "      <td>3</td>\n",
       "      <td>Rishichem Distributors Pvt., Ltd.</td>\n",
       "      <td>Dsa</td>\n",
       "      <td>0</td>\n",
       "    </tr>\n",
       "    <tr>\n",
       "      <th>3</th>\n",
       "      <td>4</td>\n",
       "      <td>Powermax Rubber Factory</td>\n",
       "      <td>Co. One</td>\n",
       "      <td>0</td>\n",
       "    </tr>\n",
       "    <tr>\n",
       "      <th>4</th>\n",
       "      <td>5</td>\n",
       "      <td>Tress A/S</td>\n",
       "      <td>Longyou Industries Park Zhejiang</td>\n",
       "      <td>0</td>\n",
       "    </tr>\n",
       "  </tbody>\n",
       "</table>\n",
       "</div>"
      ],
      "text/plain": [
       "   pair_id                             name_1  \\\n",
       "0        1                Iko Industries Ltd.   \n",
       "1        2            Apcotex Industries Ltd.   \n",
       "2        3  Rishichem Distributors Pvt., Ltd.   \n",
       "3        4            Powermax Rubber Factory   \n",
       "4        5                          Tress A/S   \n",
       "\n",
       "                                 name_2  is_duplicate  \n",
       "0  Enormous Industrial Trade Pvt., Ltd.             0  \n",
       "1   Technocraft Industries (India) Ltd.             0  \n",
       "2                                   Dsa             0  \n",
       "3                               Co. One             0  \n",
       "4      Longyou Industries Park Zhejiang             0  "
      ]
     },
     "execution_count": 4,
     "metadata": {},
     "output_type": "execute_result"
    }
   ],
   "source": [
    "df.head()"
   ]
  },
  {
   "cell_type": "code",
   "execution_count": 5,
   "id": "3140d6b7",
   "metadata": {},
   "outputs": [
    {
     "data": {
      "text/plain": [
       "(17656, 17684)"
      ]
     },
     "execution_count": 5,
     "metadata": {},
     "output_type": "execute_result"
    }
   ],
   "source": [
    "df.name_1.nunique(), df.name_2.nunique()"
   ]
  },
  {
   "cell_type": "code",
   "execution_count": 6,
   "id": "9e379e4d",
   "metadata": {},
   "outputs": [
    {
     "data": {
      "text/plain": [
       "338"
      ]
     },
     "execution_count": 6,
     "metadata": {},
     "output_type": "execute_result"
    }
   ],
   "source": [
    "len(set(df.name_1.tolist()) - set(df.name_2.tolist()))"
   ]
  },
  {
   "cell_type": "code",
   "execution_count": 7,
   "id": "d9690f43",
   "metadata": {},
   "outputs": [
    {
     "data": {
      "text/plain": [
       "366"
      ]
     },
     "execution_count": 7,
     "metadata": {},
     "output_type": "execute_result"
    }
   ],
   "source": [
    "len(set(df.name_2.tolist()) - set(df.name_1.tolist()))"
   ]
  },
  {
   "cell_type": "markdown",
   "id": "8b2a1dc2",
   "metadata": {},
   "source": [
    "### Check top-k popular word"
   ]
  },
  {
   "cell_type": "code",
   "execution_count": 8,
   "id": "4fa6a784",
   "metadata": {},
   "outputs": [],
   "source": [
    "k = 30\n",
    "list_from_name_1 = Counter(\" \".join(df[\"name_1\"]).split()).most_common(28)\n",
    "list_from_name_2 = Counter(\" \".join(df[\"name_2\"]).split()).most_common(28)"
   ]
  },
  {
   "cell_type": "code",
   "execution_count": 9,
   "id": "a78e3b97",
   "metadata": {},
   "outputs": [
    {
     "data": {
      "text/plain": [
       "([('Ltd.', 136552),\n",
       "  ('Co.,', 58457),\n",
       "  ('Inc.', 49109),\n",
       "  ('International', 48822),\n",
       "  ('De', 45427),\n",
       "  ('Industries', 34039),\n",
       "  ('Trading', 27911),\n",
       "  ('Logistics', 26357),\n",
       "  ('&', 25204),\n",
       "  ('Rubber', 19583),\n",
       "  ('Co.', 18828),\n",
       "  ('Private', 16729),\n",
       "  ('Sa', 16457),\n",
       "  ('Pvt.,', 15727),\n",
       "  ('India', 15429),\n",
       "  ('Llc', 14520),\n",
       "  ('Cv', 14511),\n",
       "  ('S.A.', 14003),\n",
       "  ('Ltda', 13903),\n",
       "  ('S', 13181),\n",
       "  ('Mexico', 10969),\n",
       "  ('Products', 10864),\n",
       "  ('Industrial', 10063),\n",
       "  ('Corporation', 10002),\n",
       "  ('Imp.', 9569),\n",
       "  ('A', 9470),\n",
       "  ('Exp.', 9361),\n",
       "  ('C.V.', 8207)],\n",
       " [('Ltd.', 136887),\n",
       "  ('Co.,', 58670),\n",
       "  ('International', 49103),\n",
       "  ('Inc.', 48371),\n",
       "  ('De', 44832),\n",
       "  ('Industries', 34125),\n",
       "  ('Trading', 27822),\n",
       "  ('Logistics', 26241),\n",
       "  ('&', 24773),\n",
       "  ('Rubber', 19547),\n",
       "  ('Co.', 18754),\n",
       "  ('Private', 16601),\n",
       "  ('Sa', 16102),\n",
       "  ('Pvt.,', 15812),\n",
       "  ('India', 15520),\n",
       "  ('Llc', 14696),\n",
       "  ('Cv', 14511),\n",
       "  ('Ltda', 13908),\n",
       "  ('S.A.', 13816),\n",
       "  ('S', 13080),\n",
       "  ('Mexico', 10976),\n",
       "  ('Products', 10808),\n",
       "  ('Corporation', 10259),\n",
       "  ('Industrial', 10211),\n",
       "  ('Imp.', 9536),\n",
       "  ('A', 9508),\n",
       "  ('Exp.', 9366),\n",
       "  ('C.V.', 8036)])"
      ]
     },
     "execution_count": 9,
     "metadata": {},
     "output_type": "execute_result"
    }
   ],
   "source": [
    "list_from_name_1, list_from_name_2"
   ]
  },
  {
   "cell_type": "code",
   "execution_count": 10,
   "id": "1202991c",
   "metadata": {},
   "outputs": [],
   "source": [
    "list_words = list_from_name_1 + list_from_name_2\n",
    "list_words = [el[0] for el in list_words]"
   ]
  },
  {
   "cell_type": "code",
   "execution_count": 11,
   "id": "d7ad37b2",
   "metadata": {},
   "outputs": [
    {
     "data": {
      "text/plain": [
       "['Ltd.',\n",
       " 'Co.,',\n",
       " 'Inc.',\n",
       " 'International',\n",
       " 'De',\n",
       " 'Industries',\n",
       " 'Trading',\n",
       " 'Logistics',\n",
       " '&',\n",
       " 'Rubber',\n",
       " 'Co.',\n",
       " 'Private',\n",
       " 'Sa',\n",
       " 'Pvt.,',\n",
       " 'India',\n",
       " 'Llc',\n",
       " 'Cv',\n",
       " 'S.A.',\n",
       " 'Ltda',\n",
       " 'S',\n",
       " 'Mexico',\n",
       " 'Products',\n",
       " 'Industrial',\n",
       " 'Corporation',\n",
       " 'Imp.',\n",
       " 'A',\n",
       " 'Exp.',\n",
       " 'C.V.',\n",
       " 'Ltd.',\n",
       " 'Co.,',\n",
       " 'International',\n",
       " 'Inc.',\n",
       " 'De',\n",
       " 'Industries',\n",
       " 'Trading',\n",
       " 'Logistics',\n",
       " '&',\n",
       " 'Rubber',\n",
       " 'Co.',\n",
       " 'Private',\n",
       " 'Sa',\n",
       " 'Pvt.,',\n",
       " 'India',\n",
       " 'Llc',\n",
       " 'Cv',\n",
       " 'Ltda',\n",
       " 'S.A.',\n",
       " 'S',\n",
       " 'Mexico',\n",
       " 'Products',\n",
       " 'Corporation',\n",
       " 'Industrial',\n",
       " 'Imp.',\n",
       " 'A',\n",
       " 'Exp.',\n",
       " 'C.V.']"
      ]
     },
     "execution_count": 11,
     "metadata": {},
     "output_type": "execute_result"
    }
   ],
   "source": [
    "list_words"
   ]
  },
  {
   "cell_type": "markdown",
   "id": "c454fe9f",
   "metadata": {},
   "source": [
    "### Check company with Russian names"
   ]
  },
  {
   "cell_type": "code",
   "execution_count": 12,
   "id": "7c3109e4",
   "metadata": {},
   "outputs": [],
   "source": [
    "def check_rus_symbols(string):\n",
    "    \n",
    "    rus_letters = [\"а\", \"б\", \"в\", \"г\", \"д\",\"е\",\"ё\",\n",
    "                   \"ж\",\"з\",\"и\",\"й\",\"к\",\"л\",\"м\",\"н\",\"о\",\n",
    "                   \"п\",\"р\",\"с\",\"т\",\"у\",\"ф\",\"х\",\"ц\",\"ч\",\n",
    "                   \"ш\",\"щ\",\"ъ\",\"ы\",\"ь\",\"э\",\"ю\",\"я\"]\n",
    "    \n",
    "    return any([i in rus_letters for i in string])"
   ]
  },
  {
   "cell_type": "code",
   "execution_count": 14,
   "id": "3a90bdec",
   "metadata": {},
   "outputs": [
    {
     "data": {
      "application/vnd.jupyter.widget-view+json": {
       "model_id": "0a6a17198c7548ec91af7fb53ee72ea3",
       "version_major": 2,
       "version_minor": 0
      },
      "text/plain": [
       "0it [00:00, ?it/s]"
      ]
     },
     "metadata": {},
     "output_type": "display_data"
    }
   ],
   "source": [
    "list_russian_company = []\n",
    "\n",
    "for i, row in tqdm(df.iterrows()):\n",
    "    \n",
    "    if check_rus_symbols(row.name_1):\n",
    "        list_russian_company.append(row.name_1)\n",
    "        \n",
    "    if check_rus_symbols(row.name_2):\n",
    "        list_russian_company.append(row.name_2)    "
   ]
  },
  {
   "cell_type": "code",
   "execution_count": 15,
   "id": "282c4a4b",
   "metadata": {},
   "outputs": [
    {
     "data": {
      "text/plain": [
       "(652,\n",
       " {'*** ООО \"ИнтерТорг\"',\n",
       "  '*** ООО \"ИнтерТулз\"',\n",
       "  '*** ООО \"Интербалк\"',\n",
       "  '«ГК Полипласт» ',\n",
       "  'АО \"Интеркомп\"',\n",
       "  'Бостик',\n",
       "  'Мишлен',\n",
       "  'ООО \"ИнтерСталь\"',\n",
       "  'ООО \"ИнтэрПром\"',\n",
       "  'ООО \"Полимаркет\"',\n",
       "  'ООО \"Элит\"',\n",
       "  'ООО «Полипласт Новомосковск»',\n",
       "  'ООО «Полипласт Северо-запад»',\n",
       "  'ООО «Полипласт-УралСиб»',\n",
       "  'ООО Полимаркет',\n",
       "  'ООО Руспласт',\n",
       "  'ООО Химинвест групп',\n",
       "  'Ондулин',\n",
       "  'Репсол'})"
      ]
     },
     "execution_count": 15,
     "metadata": {},
     "output_type": "execute_result"
    }
   ],
   "source": [
    "len(list_russian_company), set(list_russian_company)"
   ]
  },
  {
   "cell_type": "markdown",
   "id": "a88526b5",
   "metadata": {},
   "source": [
    "### Create function for apply to data"
   ]
  },
  {
   "cell_type": "code",
   "execution_count": 23,
   "id": "fe1feb44",
   "metadata": {},
   "outputs": [],
   "source": [
    "rus_letters = [\"а\", \"б\", \"в\", \"г\", \"д\",\"е\",\"ё\",\n",
    "                   \"ж\",\"з\",\"и\",\"й\",\"к\",\"л\",\"м\",\"н\",\"о\",\n",
    "                   \"п\",\"р\",\"с\",\"т\",\"у\",\"ф\",\"х\",\"ц\",\"ч\",\n",
    "                   \"ш\",\"щ\",\"ъ\",\"ы\",\"ь\",\"э\",\"ю\",\"я\"]\n",
    "\n",
    "def convert_string_to_english(company_name):\n",
    "    \n",
    "    \"\"\"\n",
    "    The function checks the string and translates to English,\n",
    "    and delete 'OOO' and other abbreviation iin Russian names\n",
    "    \"\"\"\n",
    "    \n",
    " \n",
    "    if any([i in rus_letters for i in company_name]):\n",
    "        company_name = company_name.replace('ООО', '')\n",
    "        company_name = company_name.replace('АО', '')\n",
    "        company_name = company_name.replace('ГК', '')\n",
    "        \n",
    "        return translit(company_name, language_code='ru', reversed=True)\n",
    "    \n",
    "    return company_name"
   ]
  },
  {
   "cell_type": "code",
   "execution_count": 24,
   "id": "c2632623",
   "metadata": {},
   "outputs": [],
   "source": [
    "def replace_symbols(company_name):\n",
    "    \"\"\"Delete all symbols in name_company\"\"\"\n",
    "    \n",
    "    update_name = ''\n",
    "    \n",
    "    for ch in company_name:\n",
    "        if ch.isalnum():\n",
    "            update_name += ch\n",
    "        else:\n",
    "            update_name += ' '\n",
    "            \n",
    "    update_name = update_name.strip()\n",
    "    update_name = ' '.join(update_name.split())\n",
    "    \n",
    "    if update_name == '': \n",
    "        update_name = company_name\n",
    "    return update_name"
   ]
  },
  {
   "cell_type": "code",
   "execution_count": 25,
   "id": "d5482448",
   "metadata": {},
   "outputs": [
    {
     "data": {
      "text/plain": [
       "('ООО ИнтерТорг', 'Technocraft Industries India Ltd')"
      ]
     },
     "execution_count": 25,
     "metadata": {},
     "output_type": "execute_result"
    }
   ],
   "source": [
    "## Examples\n",
    "replace_symbols('*** ООО \"ИнтерТорг\"'), replace_symbols('Technocraft Industries (India) Ltd.')"
   ]
  },
  {
   "cell_type": "code",
   "execution_count": 26,
   "id": "6972599a",
   "metadata": {},
   "outputs": [],
   "source": [
    "list_words = ['Ltd.', 'Co.,', 'Inc.', 'International', 'De', 'Industries', 'Trading', 'Logistics', '&',\n",
    "              'Rubber', 'Co.', 'Private', 'Sa', 'Pvt.,', 'India', 'Llc', 'Cv', 'S.A.', 'Ltda', 'S', 'Mexico',\n",
    "              'Products','Industrial', 'Corporation', 'Imp.', 'A', 'Exp.', 'C.V.', 'Ltd.', 'Co.,', 'International',\n",
    "              'Inc.', 'De', 'Industries', 'Trading', 'Logistics', '&', 'Rubber', 'Co.', 'Private', 'Sa', 'Pvt.', \n",
    "              'India', 'Llc', 'Cv', 'Ltda', 'S.A.', 'S', 'Mexico', 'Products', 'Corporation', 'Industrial', 'Imp.', \n",
    "              'A','Exp.','C.V.', 'A/S']"
   ]
  },
  {
   "cell_type": "code",
   "execution_count": 27,
   "id": "108b8ba3",
   "metadata": {},
   "outputs": [],
   "source": [
    "def drop_popular_words(company_name):\n",
    "    \"\"\"\n",
    "    Drop popular words from company_name\n",
    "    \"\"\"\n",
    "    c = company_name\n",
    "    update_name = []\n",
    "    company_name = company_name.replace(',', ' ')\n",
    "    for word in company_name.split():\n",
    "        if word not in list_words:\n",
    "            update_name.append(word)\n",
    "        \n",
    "    if len(' '.join(update_name)) == 0:\n",
    "        return c\n",
    "    return ' '.join(update_name)"
   ]
  },
  {
   "cell_type": "code",
   "execution_count": 28,
   "id": "3968b5bb",
   "metadata": {},
   "outputs": [],
   "source": [
    "def update_company_names(company_name):\n",
    "    \"\"\"\n",
    "    Function, which include 3 function:\n",
    "    1. convert_string_to_english\n",
    "    2. drop_popular_words\n",
    "    3. replace_symbols\n",
    "    \"\"\"\n",
    "    \n",
    "    company_name = convert_string_to_english(company_name)\n",
    "    company_name = drop_popular_words(company_name)\n",
    "    company_name = replace_symbols(company_name)\n",
    "    \n",
    "    return company_name"
   ]
  },
  {
   "cell_type": "code",
   "execution_count": 29,
   "id": "cf0da987",
   "metadata": {},
   "outputs": [
    {
     "data": {
      "text/plain": [
       "('InterTorg', 'Technocraft India')"
      ]
     },
     "execution_count": 29,
     "metadata": {},
     "output_type": "execute_result"
    }
   ],
   "source": [
    "#Example\n",
    "update_company_names('*** ООО \"ИнтерТорг\"'), update_company_names('Technocraft Industries (India) Ltd.')"
   ]
  },
  {
   "cell_type": "markdown",
   "id": "3e61cf6b",
   "metadata": {},
   "source": [
    "### Apply to data and check"
   ]
  },
  {
   "cell_type": "code",
   "execution_count": 30,
   "id": "3a80aefa",
   "metadata": {},
   "outputs": [],
   "source": [
    "df['name_1_upd'] = df.name_1.apply(update_company_names)\n",
    "df['name_2_upd'] = df.name_2.apply(update_company_names)"
   ]
  },
  {
   "cell_type": "code",
   "execution_count": 31,
   "id": "2898e607",
   "metadata": {},
   "outputs": [
    {
     "data": {
      "text/html": [
       "<div>\n",
       "<style scoped>\n",
       "    .dataframe tbody tr th:only-of-type {\n",
       "        vertical-align: middle;\n",
       "    }\n",
       "\n",
       "    .dataframe tbody tr th {\n",
       "        vertical-align: top;\n",
       "    }\n",
       "\n",
       "    .dataframe thead th {\n",
       "        text-align: right;\n",
       "    }\n",
       "</style>\n",
       "<table border=\"1\" class=\"dataframe\">\n",
       "  <thead>\n",
       "    <tr style=\"text-align: right;\">\n",
       "      <th></th>\n",
       "      <th>pair_id</th>\n",
       "      <th>name_1</th>\n",
       "      <th>name_2</th>\n",
       "      <th>is_duplicate</th>\n",
       "      <th>name_1_upd</th>\n",
       "      <th>name_2_upd</th>\n",
       "    </tr>\n",
       "  </thead>\n",
       "  <tbody>\n",
       "    <tr>\n",
       "      <th>0</th>\n",
       "      <td>1</td>\n",
       "      <td>Iko Industries Ltd.</td>\n",
       "      <td>Enormous Industrial Trade Pvt., Ltd.</td>\n",
       "      <td>0</td>\n",
       "      <td>Iko</td>\n",
       "      <td>Enormous Trade</td>\n",
       "    </tr>\n",
       "    <tr>\n",
       "      <th>1</th>\n",
       "      <td>2</td>\n",
       "      <td>Apcotex Industries Ltd.</td>\n",
       "      <td>Technocraft Industries (India) Ltd.</td>\n",
       "      <td>0</td>\n",
       "      <td>Apcotex</td>\n",
       "      <td>Technocraft India</td>\n",
       "    </tr>\n",
       "    <tr>\n",
       "      <th>2</th>\n",
       "      <td>3</td>\n",
       "      <td>Rishichem Distributors Pvt., Ltd.</td>\n",
       "      <td>Dsa</td>\n",
       "      <td>0</td>\n",
       "      <td>Rishichem Distributors</td>\n",
       "      <td>Dsa</td>\n",
       "    </tr>\n",
       "    <tr>\n",
       "      <th>3</th>\n",
       "      <td>4</td>\n",
       "      <td>Powermax Rubber Factory</td>\n",
       "      <td>Co. One</td>\n",
       "      <td>0</td>\n",
       "      <td>Powermax Factory</td>\n",
       "      <td>One</td>\n",
       "    </tr>\n",
       "    <tr>\n",
       "      <th>4</th>\n",
       "      <td>5</td>\n",
       "      <td>Tress A/S</td>\n",
       "      <td>Longyou Industries Park Zhejiang</td>\n",
       "      <td>0</td>\n",
       "      <td>Tress</td>\n",
       "      <td>Longyou Park Zhejiang</td>\n",
       "    </tr>\n",
       "  </tbody>\n",
       "</table>\n",
       "</div>"
      ],
      "text/plain": [
       "   pair_id                             name_1  \\\n",
       "0        1                Iko Industries Ltd.   \n",
       "1        2            Apcotex Industries Ltd.   \n",
       "2        3  Rishichem Distributors Pvt., Ltd.   \n",
       "3        4            Powermax Rubber Factory   \n",
       "4        5                          Tress A/S   \n",
       "\n",
       "                                 name_2  is_duplicate              name_1_upd  \\\n",
       "0  Enormous Industrial Trade Pvt., Ltd.             0                     Iko   \n",
       "1   Technocraft Industries (India) Ltd.             0                 Apcotex   \n",
       "2                                   Dsa             0  Rishichem Distributors   \n",
       "3                               Co. One             0        Powermax Factory   \n",
       "4      Longyou Industries Park Zhejiang             0                   Tress   \n",
       "\n",
       "              name_2_upd  \n",
       "0         Enormous Trade  \n",
       "1      Technocraft India  \n",
       "2                    Dsa  \n",
       "3                    One  \n",
       "4  Longyou Park Zhejiang  "
      ]
     },
     "execution_count": 31,
     "metadata": {},
     "output_type": "execute_result"
    }
   ],
   "source": [
    "df.head()"
   ]
  },
  {
   "cell_type": "code",
   "execution_count": 32,
   "id": "f38da0dd",
   "metadata": {},
   "outputs": [],
   "source": [
    "df.to_csv('data_v2_19_oct.csv')"
   ]
  },
  {
   "cell_type": "code",
   "execution_count": null,
   "id": "fa6ebc90",
   "metadata": {},
   "outputs": [],
   "source": [
    "df[df.is_duplicate == True].head()"
   ]
  },
  {
   "cell_type": "code",
   "execution_count": null,
   "id": "7b73df75",
   "metadata": {},
   "outputs": [],
   "source": [
    "a = pd.Series(df.name_1.unique().tolist())"
   ]
  },
  {
   "cell_type": "code",
   "execution_count": 37,
   "id": "f25e8f2d",
   "metadata": {},
   "outputs": [],
   "source": [
    "df_base = df['name_1'].unique()"
   ]
  },
  {
   "cell_type": "code",
   "execution_count": 39,
   "id": "8c91b4e6",
   "metadata": {},
   "outputs": [],
   "source": [
    "df_base = pd.DataFrame({'name_1': df['name_1'].unique()})"
   ]
  },
  {
   "cell_type": "code",
   "execution_count": 40,
   "id": "7033fd2c",
   "metadata": {},
   "outputs": [
    {
     "data": {
      "text/html": [
       "<div>\n",
       "<style scoped>\n",
       "    .dataframe tbody tr th:only-of-type {\n",
       "        vertical-align: middle;\n",
       "    }\n",
       "\n",
       "    .dataframe tbody tr th {\n",
       "        vertical-align: top;\n",
       "    }\n",
       "\n",
       "    .dataframe thead th {\n",
       "        text-align: right;\n",
       "    }\n",
       "</style>\n",
       "<table border=\"1\" class=\"dataframe\">\n",
       "  <thead>\n",
       "    <tr style=\"text-align: right;\">\n",
       "      <th></th>\n",
       "      <th>name_1</th>\n",
       "    </tr>\n",
       "  </thead>\n",
       "  <tbody>\n",
       "    <tr>\n",
       "      <th>0</th>\n",
       "      <td>Iko Industries Ltd.</td>\n",
       "    </tr>\n",
       "    <tr>\n",
       "      <th>1</th>\n",
       "      <td>Apcotex Industries Ltd.</td>\n",
       "    </tr>\n",
       "    <tr>\n",
       "      <th>2</th>\n",
       "      <td>Rishichem Distributors Pvt., Ltd.</td>\n",
       "    </tr>\n",
       "    <tr>\n",
       "      <th>3</th>\n",
       "      <td>Powermax Rubber Factory</td>\n",
       "    </tr>\n",
       "    <tr>\n",
       "      <th>4</th>\n",
       "      <td>Tress A/S</td>\n",
       "    </tr>\n",
       "  </tbody>\n",
       "</table>\n",
       "</div>"
      ],
      "text/plain": [
       "                              name_1\n",
       "0                Iko Industries Ltd.\n",
       "1            Apcotex Industries Ltd.\n",
       "2  Rishichem Distributors Pvt., Ltd.\n",
       "3            Powermax Rubber Factory\n",
       "4                          Tress A/S"
      ]
     },
     "execution_count": 40,
     "metadata": {},
     "output_type": "execute_result"
    }
   ],
   "source": [
    "df_base.head()"
   ]
  },
  {
   "cell_type": "code",
   "execution_count": 41,
   "id": "968dd81e",
   "metadata": {},
   "outputs": [],
   "source": [
    "df_base['name_1_upd'] = df_base['name_1'].apply(update_company_names)"
   ]
  },
  {
   "cell_type": "code",
   "execution_count": 43,
   "id": "03909d58",
   "metadata": {},
   "outputs": [],
   "source": [
    "df_base.to_csv('database.csv')"
   ]
  },
  {
   "cell_type": "code",
   "execution_count": null,
   "id": "74a44990",
   "metadata": {},
   "outputs": [],
   "source": []
  }
 ],
 "metadata": {
  "kernelspec": {
   "display_name": "Python 3 (ipykernel)",
   "language": "python",
   "name": "python3"
  },
  "language_info": {
   "codemirror_mode": {
    "name": "ipython",
    "version": 3
   },
   "file_extension": ".py",
   "mimetype": "text/x-python",
   "name": "python",
   "nbconvert_exporter": "python",
   "pygments_lexer": "ipython3",
   "version": "3.10.7"
  }
 },
 "nbformat": 4,
 "nbformat_minor": 5
}
